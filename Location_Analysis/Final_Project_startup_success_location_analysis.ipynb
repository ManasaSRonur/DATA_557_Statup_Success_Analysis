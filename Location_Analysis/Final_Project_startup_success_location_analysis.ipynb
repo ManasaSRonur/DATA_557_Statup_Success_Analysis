{
  "nbformat": 4,
  "nbformat_minor": 0,
  "metadata": {
    "colab": {
      "provenance": []
    },
    "kernelspec": {
      "name": "ir",
      "display_name": "R"
    },
    "language_info": {
      "name": "R"
    }
  },
  "cells": [
    {
      "cell_type": "markdown",
      "source": [
        "## Reading the CSV\n"
      ],
      "metadata": {
        "id": "_FYtSaYemtuh"
      }
    },
    {
      "cell_type": "code",
      "execution_count": null,
      "metadata": {
        "id": "Uv6lQ6iIK36C"
      },
      "outputs": [],
      "source": [
        "df <- read.csv(\"/content/cleaned_investments_VC.csv\")"
      ]
    },
    {
      "cell_type": "code",
      "source": [
        "head(df)"
      ],
      "metadata": {
        "colab": {
          "base_uri": "https://localhost:8080/",
          "height": 410
        },
        "id": "XV6FZzI6Lv_F",
        "outputId": "aecc487a-a9cc-414b-88c8-41fe64464fa1"
      },
      "execution_count": null,
      "outputs": [
        {
          "output_type": "display_data",
          "data": {
            "text/html": [
              "<table class=\"dataframe\">\n",
              "<caption>A data.frame: 6 × 37</caption>\n",
              "<thead>\n",
              "\t<tr><th></th><th scope=col>name</th><th scope=col>market</th><th scope=col>funding_total_usd</th><th scope=col>status</th><th scope=col>region</th><th scope=col>city</th><th scope=col>funding_rounds</th><th scope=col>founded_at</th><th scope=col>founded_month</th><th scope=col>founded_quarter</th><th scope=col>⋯</th><th scope=col>round_B</th><th scope=col>round_C</th><th scope=col>round_D</th><th scope=col>round_E</th><th scope=col>round_F</th><th scope=col>round_G</th><th scope=col>round_H</th><th scope=col>country</th><th scope=col>age</th><th scope=col>success_metric_updated</th></tr>\n",
              "\t<tr><th></th><th scope=col>&lt;chr&gt;</th><th scope=col>&lt;chr&gt;</th><th scope=col>&lt;dbl&gt;</th><th scope=col>&lt;chr&gt;</th><th scope=col>&lt;chr&gt;</th><th scope=col>&lt;chr&gt;</th><th scope=col>&lt;dbl&gt;</th><th scope=col>&lt;chr&gt;</th><th scope=col>&lt;chr&gt;</th><th scope=col>&lt;chr&gt;</th><th scope=col>⋯</th><th scope=col>&lt;dbl&gt;</th><th scope=col>&lt;dbl&gt;</th><th scope=col>&lt;dbl&gt;</th><th scope=col>&lt;dbl&gt;</th><th scope=col>&lt;dbl&gt;</th><th scope=col>&lt;dbl&gt;</th><th scope=col>&lt;dbl&gt;</th><th scope=col>&lt;chr&gt;</th><th scope=col>&lt;int&gt;</th><th scope=col>&lt;chr&gt;</th></tr>\n",
              "</thead>\n",
              "<tbody>\n",
              "\t<tr><th scope=row>1</th><td>#waywire          </td><td>News       </td><td>1750000</td><td>acquired </td><td>New York City        </td><td>New York  </td><td>1</td><td>2012-06-01</td><td>2012-06</td><td>2012-Q2</td><td>⋯</td><td>0</td><td>0</td><td>0</td><td>0</td><td>0</td><td>0</td><td>0</td><td>United States </td><td>2</td><td>Successful            </td></tr>\n",
              "\t<tr><th scope=row>2</th><td>'Rock' Your Paper </td><td>Publishing </td><td>  40000</td><td>operating</td><td>Tallinn              </td><td>Tallinn   </td><td>1</td><td>2012-10-26</td><td>2012-10</td><td>2012-Q4</td><td>⋯</td><td>0</td><td>0</td><td>0</td><td>0</td><td>0</td><td>0</td><td>0</td><td>Estonia       </td><td>2</td><td>Potentially Successful</td></tr>\n",
              "\t<tr><th scope=row>3</th><td>(In)Touch Network </td><td>Electronics</td><td>1500000</td><td>operating</td><td>London               </td><td>London    </td><td>1</td><td>2011-04-01</td><td>2011-04</td><td>2011-Q2</td><td>⋯</td><td>0</td><td>0</td><td>0</td><td>0</td><td>0</td><td>0</td><td>0</td><td>United Kingdom</td><td>3</td><td>Potentially Successful</td></tr>\n",
              "\t<tr><th scope=row>4</th><td>-R- Ranch and Mine</td><td>Tourism    </td><td>  60000</td><td>operating</td><td>Dallas               </td><td>Fort Worth</td><td>2</td><td>2014-01-01</td><td>2014-01</td><td>2014-Q1</td><td>⋯</td><td>0</td><td>0</td><td>0</td><td>0</td><td>0</td><td>0</td><td>0</td><td>United States </td><td>0</td><td>Potentially Successful</td></tr>\n",
              "\t<tr><th scope=row>5</th><td>004 Technologies  </td><td>Software   </td><td>      0</td><td>operating</td><td>Springfield, Illinois</td><td>Champaign </td><td>1</td><td>2010-01-01</td><td>2010-01</td><td>2010-Q1</td><td>⋯</td><td>0</td><td>0</td><td>0</td><td>0</td><td>0</td><td>0</td><td>0</td><td>United States </td><td>4</td><td>Potentially Successful</td></tr>\n",
              "\t<tr><th scope=row>6</th><td>1,2,3 Listo       </td><td>E-Commerce </td><td>  40000</td><td>operating</td><td>Santiago             </td><td>Las Condes</td><td>1</td><td>2012-01-01</td><td>2012-01</td><td>2012-Q1</td><td>⋯</td><td>0</td><td>0</td><td>0</td><td>0</td><td>0</td><td>0</td><td>0</td><td>Chile         </td><td>2</td><td>Potentially Successful</td></tr>\n",
              "</tbody>\n",
              "</table>\n"
            ],
            "text/markdown": "\nA data.frame: 6 × 37\n\n| <!--/--> | name &lt;chr&gt; | market &lt;chr&gt; | funding_total_usd &lt;dbl&gt; | status &lt;chr&gt; | region &lt;chr&gt; | city &lt;chr&gt; | funding_rounds &lt;dbl&gt; | founded_at &lt;chr&gt; | founded_month &lt;chr&gt; | founded_quarter &lt;chr&gt; | ⋯ ⋯ | round_B &lt;dbl&gt; | round_C &lt;dbl&gt; | round_D &lt;dbl&gt; | round_E &lt;dbl&gt; | round_F &lt;dbl&gt; | round_G &lt;dbl&gt; | round_H &lt;dbl&gt; | country &lt;chr&gt; | age &lt;int&gt; | success_metric_updated &lt;chr&gt; |\n|---|---|---|---|---|---|---|---|---|---|---|---|---|---|---|---|---|---|---|---|---|---|\n| 1 | #waywire           | News        | 1750000 | acquired  | New York City         | New York   | 1 | 2012-06-01 | 2012-06 | 2012-Q2 | ⋯ | 0 | 0 | 0 | 0 | 0 | 0 | 0 | United States  | 2 | Successful             |\n| 2 | 'Rock' Your Paper  | Publishing  |   40000 | operating | Tallinn               | Tallinn    | 1 | 2012-10-26 | 2012-10 | 2012-Q4 | ⋯ | 0 | 0 | 0 | 0 | 0 | 0 | 0 | Estonia        | 2 | Potentially Successful |\n| 3 | (In)Touch Network  | Electronics | 1500000 | operating | London                | London     | 1 | 2011-04-01 | 2011-04 | 2011-Q2 | ⋯ | 0 | 0 | 0 | 0 | 0 | 0 | 0 | United Kingdom | 3 | Potentially Successful |\n| 4 | -R- Ranch and Mine | Tourism     |   60000 | operating | Dallas                | Fort Worth | 2 | 2014-01-01 | 2014-01 | 2014-Q1 | ⋯ | 0 | 0 | 0 | 0 | 0 | 0 | 0 | United States  | 0 | Potentially Successful |\n| 5 | 004 Technologies   | Software    |       0 | operating | Springfield, Illinois | Champaign  | 1 | 2010-01-01 | 2010-01 | 2010-Q1 | ⋯ | 0 | 0 | 0 | 0 | 0 | 0 | 0 | United States  | 4 | Potentially Successful |\n| 6 | 1,2,3 Listo        | E-Commerce  |   40000 | operating | Santiago              | Las Condes | 1 | 2012-01-01 | 2012-01 | 2012-Q1 | ⋯ | 0 | 0 | 0 | 0 | 0 | 0 | 0 | Chile          | 2 | Potentially Successful |\n\n",
            "text/latex": "A data.frame: 6 × 37\n\\begin{tabular}{r|lllllllllllllllllllll}\n  & name & market & funding\\_total\\_usd & status & region & city & funding\\_rounds & founded\\_at & founded\\_month & founded\\_quarter & ⋯ & round\\_B & round\\_C & round\\_D & round\\_E & round\\_F & round\\_G & round\\_H & country & age & success\\_metric\\_updated\\\\\n  & <chr> & <chr> & <dbl> & <chr> & <chr> & <chr> & <dbl> & <chr> & <chr> & <chr> & ⋯ & <dbl> & <dbl> & <dbl> & <dbl> & <dbl> & <dbl> & <dbl> & <chr> & <int> & <chr>\\\\\n\\hline\n\t1 & \\#waywire           & News        & 1750000 & acquired  & New York City         & New York   & 1 & 2012-06-01 & 2012-06 & 2012-Q2 & ⋯ & 0 & 0 & 0 & 0 & 0 & 0 & 0 & United States  & 2 & Successful            \\\\\n\t2 & 'Rock' Your Paper  & Publishing  &   40000 & operating & Tallinn               & Tallinn    & 1 & 2012-10-26 & 2012-10 & 2012-Q4 & ⋯ & 0 & 0 & 0 & 0 & 0 & 0 & 0 & Estonia        & 2 & Potentially Successful\\\\\n\t3 & (In)Touch Network  & Electronics & 1500000 & operating & London                & London     & 1 & 2011-04-01 & 2011-04 & 2011-Q2 & ⋯ & 0 & 0 & 0 & 0 & 0 & 0 & 0 & United Kingdom & 3 & Potentially Successful\\\\\n\t4 & -R- Ranch and Mine & Tourism     &   60000 & operating & Dallas                & Fort Worth & 2 & 2014-01-01 & 2014-01 & 2014-Q1 & ⋯ & 0 & 0 & 0 & 0 & 0 & 0 & 0 & United States  & 0 & Potentially Successful\\\\\n\t5 & 004 Technologies   & Software    &       0 & operating & Springfield, Illinois & Champaign  & 1 & 2010-01-01 & 2010-01 & 2010-Q1 & ⋯ & 0 & 0 & 0 & 0 & 0 & 0 & 0 & United States  & 4 & Potentially Successful\\\\\n\t6 & 1,2,3 Listo        & E-Commerce  &   40000 & operating & Santiago              & Las Condes & 1 & 2012-01-01 & 2012-01 & 2012-Q1 & ⋯ & 0 & 0 & 0 & 0 & 0 & 0 & 0 & Chile          & 2 & Potentially Successful\\\\\n\\end{tabular}\n",
            "text/plain": [
              "  name               market      funding_total_usd status   \n",
              "1 #waywire           News        1750000           acquired \n",
              "2 'Rock' Your Paper  Publishing    40000           operating\n",
              "3 (In)Touch Network  Electronics 1500000           operating\n",
              "4 -R- Ranch and Mine Tourism       60000           operating\n",
              "5 004 Technologies   Software          0           operating\n",
              "6 1,2,3 Listo        E-Commerce    40000           operating\n",
              "  region                city       funding_rounds founded_at founded_month\n",
              "1 New York City         New York   1              2012-06-01 2012-06      \n",
              "2 Tallinn               Tallinn    1              2012-10-26 2012-10      \n",
              "3 London                London     1              2011-04-01 2011-04      \n",
              "4 Dallas                Fort Worth 2              2014-01-01 2014-01      \n",
              "5 Springfield, Illinois Champaign  1              2010-01-01 2010-01      \n",
              "6 Santiago              Las Condes 1              2012-01-01 2012-01      \n",
              "  founded_quarter ⋯ round_B round_C round_D round_E round_F round_G round_H\n",
              "1 2012-Q2         ⋯ 0       0       0       0       0       0       0      \n",
              "2 2012-Q4         ⋯ 0       0       0       0       0       0       0      \n",
              "3 2011-Q2         ⋯ 0       0       0       0       0       0       0      \n",
              "4 2014-Q1         ⋯ 0       0       0       0       0       0       0      \n",
              "5 2010-Q1         ⋯ 0       0       0       0       0       0       0      \n",
              "6 2012-Q1         ⋯ 0       0       0       0       0       0       0      \n",
              "  country        age success_metric_updated\n",
              "1 United States  2   Successful            \n",
              "2 Estonia        2   Potentially Successful\n",
              "3 United Kingdom 3   Potentially Successful\n",
              "4 United States  0   Potentially Successful\n",
              "5 United States  4   Potentially Successful\n",
              "6 Chile          2   Potentially Successful"
            ]
          },
          "metadata": {}
        }
      ]
    },
    {
      "cell_type": "code",
      "source": [
        "nrow(df)"
      ],
      "metadata": {
        "colab": {
          "base_uri": "https://localhost:8080/",
          "height": 34
        },
        "id": "of9Lj8goPqA-",
        "outputId": "94090741-39e2-48be-8c51-83506741f10a"
      },
      "execution_count": null,
      "outputs": [
        {
          "output_type": "display_data",
          "data": {
            "text/html": [
              "32765"
            ],
            "text/markdown": "32765",
            "text/latex": "32765",
            "text/plain": [
              "[1] 32765"
            ]
          },
          "metadata": {}
        }
      ]
    },
    {
      "cell_type": "markdown",
      "source": [
        "# Country level analysis\n"
      ],
      "metadata": {
        "id": "ESNGEKZNuF_J"
      }
    },
    {
      "cell_type": "markdown",
      "source": [
        "## Data Manipulation\n"
      ],
      "metadata": {
        "id": "tF4F_UT2rhRv"
      }
    },
    {
      "cell_type": "code",
      "source": [
        "library(tidyverse)\n",
        "top_5_countries <- df %>%\n",
        "  count(country, sort = TRUE) %>%\n",
        "  head(5) %>%\n",
        "  pull(country)\n",
        "\n",
        "df$country[!(df$country %in% top_5_countries)] <- \"Others\"\n",
        "head(df)\n"
      ],
      "metadata": {
        "colab": {
          "base_uri": "https://localhost:8080/",
          "height": 410
        },
        "id": "heAARAeFLzPq",
        "outputId": "f633fa5b-ddac-4d3a-b280-76b252a146ca"
      },
      "execution_count": null,
      "outputs": [
        {
          "output_type": "display_data",
          "data": {
            "text/html": [
              "<table class=\"dataframe\">\n",
              "<caption>A data.frame: 6 × 37</caption>\n",
              "<thead>\n",
              "\t<tr><th></th><th scope=col>name</th><th scope=col>market</th><th scope=col>funding_total_usd</th><th scope=col>status</th><th scope=col>region</th><th scope=col>city</th><th scope=col>funding_rounds</th><th scope=col>founded_at</th><th scope=col>founded_month</th><th scope=col>founded_quarter</th><th scope=col>⋯</th><th scope=col>round_B</th><th scope=col>round_C</th><th scope=col>round_D</th><th scope=col>round_E</th><th scope=col>round_F</th><th scope=col>round_G</th><th scope=col>round_H</th><th scope=col>country</th><th scope=col>age</th><th scope=col>success_metric_updated</th></tr>\n",
              "\t<tr><th></th><th scope=col>&lt;chr&gt;</th><th scope=col>&lt;chr&gt;</th><th scope=col>&lt;dbl&gt;</th><th scope=col>&lt;chr&gt;</th><th scope=col>&lt;chr&gt;</th><th scope=col>&lt;chr&gt;</th><th scope=col>&lt;dbl&gt;</th><th scope=col>&lt;chr&gt;</th><th scope=col>&lt;chr&gt;</th><th scope=col>&lt;chr&gt;</th><th scope=col>⋯</th><th scope=col>&lt;dbl&gt;</th><th scope=col>&lt;dbl&gt;</th><th scope=col>&lt;dbl&gt;</th><th scope=col>&lt;dbl&gt;</th><th scope=col>&lt;dbl&gt;</th><th scope=col>&lt;dbl&gt;</th><th scope=col>&lt;dbl&gt;</th><th scope=col>&lt;chr&gt;</th><th scope=col>&lt;int&gt;</th><th scope=col>&lt;chr&gt;</th></tr>\n",
              "</thead>\n",
              "<tbody>\n",
              "\t<tr><th scope=row>1</th><td>#waywire          </td><td>News       </td><td>1750000</td><td>acquired </td><td>New York City        </td><td>New York  </td><td>1</td><td>2012-06-01</td><td>2012-06</td><td>2012-Q2</td><td>⋯</td><td>0</td><td>0</td><td>0</td><td>0</td><td>0</td><td>0</td><td>0</td><td>United States </td><td>2</td><td>Successful            </td></tr>\n",
              "\t<tr><th scope=row>2</th><td>'Rock' Your Paper </td><td>Publishing </td><td>  40000</td><td>operating</td><td>Tallinn              </td><td>Tallinn   </td><td>1</td><td>2012-10-26</td><td>2012-10</td><td>2012-Q4</td><td>⋯</td><td>0</td><td>0</td><td>0</td><td>0</td><td>0</td><td>0</td><td>0</td><td>Others        </td><td>2</td><td>Potentially Successful</td></tr>\n",
              "\t<tr><th scope=row>3</th><td>(In)Touch Network </td><td>Electronics</td><td>1500000</td><td>operating</td><td>London               </td><td>London    </td><td>1</td><td>2011-04-01</td><td>2011-04</td><td>2011-Q2</td><td>⋯</td><td>0</td><td>0</td><td>0</td><td>0</td><td>0</td><td>0</td><td>0</td><td>United Kingdom</td><td>3</td><td>Potentially Successful</td></tr>\n",
              "\t<tr><th scope=row>4</th><td>-R- Ranch and Mine</td><td>Tourism    </td><td>  60000</td><td>operating</td><td>Dallas               </td><td>Fort Worth</td><td>2</td><td>2014-01-01</td><td>2014-01</td><td>2014-Q1</td><td>⋯</td><td>0</td><td>0</td><td>0</td><td>0</td><td>0</td><td>0</td><td>0</td><td>United States </td><td>0</td><td>Potentially Successful</td></tr>\n",
              "\t<tr><th scope=row>5</th><td>004 Technologies  </td><td>Software   </td><td>      0</td><td>operating</td><td>Springfield, Illinois</td><td>Champaign </td><td>1</td><td>2010-01-01</td><td>2010-01</td><td>2010-Q1</td><td>⋯</td><td>0</td><td>0</td><td>0</td><td>0</td><td>0</td><td>0</td><td>0</td><td>United States </td><td>4</td><td>Potentially Successful</td></tr>\n",
              "\t<tr><th scope=row>6</th><td>1,2,3 Listo       </td><td>E-Commerce </td><td>  40000</td><td>operating</td><td>Santiago             </td><td>Las Condes</td><td>1</td><td>2012-01-01</td><td>2012-01</td><td>2012-Q1</td><td>⋯</td><td>0</td><td>0</td><td>0</td><td>0</td><td>0</td><td>0</td><td>0</td><td>Others        </td><td>2</td><td>Potentially Successful</td></tr>\n",
              "</tbody>\n",
              "</table>\n"
            ],
            "text/markdown": "\nA data.frame: 6 × 37\n\n| <!--/--> | name &lt;chr&gt; | market &lt;chr&gt; | funding_total_usd &lt;dbl&gt; | status &lt;chr&gt; | region &lt;chr&gt; | city &lt;chr&gt; | funding_rounds &lt;dbl&gt; | founded_at &lt;chr&gt; | founded_month &lt;chr&gt; | founded_quarter &lt;chr&gt; | ⋯ ⋯ | round_B &lt;dbl&gt; | round_C &lt;dbl&gt; | round_D &lt;dbl&gt; | round_E &lt;dbl&gt; | round_F &lt;dbl&gt; | round_G &lt;dbl&gt; | round_H &lt;dbl&gt; | country &lt;chr&gt; | age &lt;int&gt; | success_metric_updated &lt;chr&gt; |\n|---|---|---|---|---|---|---|---|---|---|---|---|---|---|---|---|---|---|---|---|---|---|\n| 1 | #waywire           | News        | 1750000 | acquired  | New York City         | New York   | 1 | 2012-06-01 | 2012-06 | 2012-Q2 | ⋯ | 0 | 0 | 0 | 0 | 0 | 0 | 0 | United States  | 2 | Successful             |\n| 2 | 'Rock' Your Paper  | Publishing  |   40000 | operating | Tallinn               | Tallinn    | 1 | 2012-10-26 | 2012-10 | 2012-Q4 | ⋯ | 0 | 0 | 0 | 0 | 0 | 0 | 0 | Others         | 2 | Potentially Successful |\n| 3 | (In)Touch Network  | Electronics | 1500000 | operating | London                | London     | 1 | 2011-04-01 | 2011-04 | 2011-Q2 | ⋯ | 0 | 0 | 0 | 0 | 0 | 0 | 0 | United Kingdom | 3 | Potentially Successful |\n| 4 | -R- Ranch and Mine | Tourism     |   60000 | operating | Dallas                | Fort Worth | 2 | 2014-01-01 | 2014-01 | 2014-Q1 | ⋯ | 0 | 0 | 0 | 0 | 0 | 0 | 0 | United States  | 0 | Potentially Successful |\n| 5 | 004 Technologies   | Software    |       0 | operating | Springfield, Illinois | Champaign  | 1 | 2010-01-01 | 2010-01 | 2010-Q1 | ⋯ | 0 | 0 | 0 | 0 | 0 | 0 | 0 | United States  | 4 | Potentially Successful |\n| 6 | 1,2,3 Listo        | E-Commerce  |   40000 | operating | Santiago              | Las Condes | 1 | 2012-01-01 | 2012-01 | 2012-Q1 | ⋯ | 0 | 0 | 0 | 0 | 0 | 0 | 0 | Others         | 2 | Potentially Successful |\n\n",
            "text/latex": "A data.frame: 6 × 37\n\\begin{tabular}{r|lllllllllllllllllllll}\n  & name & market & funding\\_total\\_usd & status & region & city & funding\\_rounds & founded\\_at & founded\\_month & founded\\_quarter & ⋯ & round\\_B & round\\_C & round\\_D & round\\_E & round\\_F & round\\_G & round\\_H & country & age & success\\_metric\\_updated\\\\\n  & <chr> & <chr> & <dbl> & <chr> & <chr> & <chr> & <dbl> & <chr> & <chr> & <chr> & ⋯ & <dbl> & <dbl> & <dbl> & <dbl> & <dbl> & <dbl> & <dbl> & <chr> & <int> & <chr>\\\\\n\\hline\n\t1 & \\#waywire           & News        & 1750000 & acquired  & New York City         & New York   & 1 & 2012-06-01 & 2012-06 & 2012-Q2 & ⋯ & 0 & 0 & 0 & 0 & 0 & 0 & 0 & United States  & 2 & Successful            \\\\\n\t2 & 'Rock' Your Paper  & Publishing  &   40000 & operating & Tallinn               & Tallinn    & 1 & 2012-10-26 & 2012-10 & 2012-Q4 & ⋯ & 0 & 0 & 0 & 0 & 0 & 0 & 0 & Others         & 2 & Potentially Successful\\\\\n\t3 & (In)Touch Network  & Electronics & 1500000 & operating & London                & London     & 1 & 2011-04-01 & 2011-04 & 2011-Q2 & ⋯ & 0 & 0 & 0 & 0 & 0 & 0 & 0 & United Kingdom & 3 & Potentially Successful\\\\\n\t4 & -R- Ranch and Mine & Tourism     &   60000 & operating & Dallas                & Fort Worth & 2 & 2014-01-01 & 2014-01 & 2014-Q1 & ⋯ & 0 & 0 & 0 & 0 & 0 & 0 & 0 & United States  & 0 & Potentially Successful\\\\\n\t5 & 004 Technologies   & Software    &       0 & operating & Springfield, Illinois & Champaign  & 1 & 2010-01-01 & 2010-01 & 2010-Q1 & ⋯ & 0 & 0 & 0 & 0 & 0 & 0 & 0 & United States  & 4 & Potentially Successful\\\\\n\t6 & 1,2,3 Listo        & E-Commerce  &   40000 & operating & Santiago              & Las Condes & 1 & 2012-01-01 & 2012-01 & 2012-Q1 & ⋯ & 0 & 0 & 0 & 0 & 0 & 0 & 0 & Others         & 2 & Potentially Successful\\\\\n\\end{tabular}\n",
            "text/plain": [
              "  name               market      funding_total_usd status   \n",
              "1 #waywire           News        1750000           acquired \n",
              "2 'Rock' Your Paper  Publishing    40000           operating\n",
              "3 (In)Touch Network  Electronics 1500000           operating\n",
              "4 -R- Ranch and Mine Tourism       60000           operating\n",
              "5 004 Technologies   Software          0           operating\n",
              "6 1,2,3 Listo        E-Commerce    40000           operating\n",
              "  region                city       funding_rounds founded_at founded_month\n",
              "1 New York City         New York   1              2012-06-01 2012-06      \n",
              "2 Tallinn               Tallinn    1              2012-10-26 2012-10      \n",
              "3 London                London     1              2011-04-01 2011-04      \n",
              "4 Dallas                Fort Worth 2              2014-01-01 2014-01      \n",
              "5 Springfield, Illinois Champaign  1              2010-01-01 2010-01      \n",
              "6 Santiago              Las Condes 1              2012-01-01 2012-01      \n",
              "  founded_quarter ⋯ round_B round_C round_D round_E round_F round_G round_H\n",
              "1 2012-Q2         ⋯ 0       0       0       0       0       0       0      \n",
              "2 2012-Q4         ⋯ 0       0       0       0       0       0       0      \n",
              "3 2011-Q2         ⋯ 0       0       0       0       0       0       0      \n",
              "4 2014-Q1         ⋯ 0       0       0       0       0       0       0      \n",
              "5 2010-Q1         ⋯ 0       0       0       0       0       0       0      \n",
              "6 2012-Q1         ⋯ 0       0       0       0       0       0       0      \n",
              "  country        age success_metric_updated\n",
              "1 United States  2   Successful            \n",
              "2 Others         2   Potentially Successful\n",
              "3 United Kingdom 3   Potentially Successful\n",
              "4 United States  0   Potentially Successful\n",
              "5 United States  4   Potentially Successful\n",
              "6 Others         2   Potentially Successful"
            ]
          },
          "metadata": {}
        }
      ]
    },
    {
      "cell_type": "markdown",
      "source": [
        "## Visualising success status proportion (as percentage) for countries\n"
      ],
      "metadata": {
        "id": "wUSM17RjsF6a"
      }
    },
    {
      "cell_type": "code",
      "source": [
        "library(ggplot2)\n",
        "\n",
        "ggplot(df, aes(x = country, fill = success_metric_updated)) +\n",
        "  geom_bar(stat = \"count\", position = \"fill\") +\n",
        "  scale_fill_brewer(palette = \"Set3\") +\n",
        "  scale_y_continuous(name = \"percent\",\n",
        "                     breaks = c(0, 0.5, 1),\n",
        "                     labels = scales::percent(c(0, 0.5, 1))) +\n",
        "  labs(title = \"Proportion of Success Metrics by Country\",\n",
        "       x = \"Country\",\n",
        "       y = \"Proportion\") +\n",
        "  # Increase font size and rotate x-axis labels\n",
        "  theme(axis.text = element_text(size = 14),\n",
        "        axis.title = element_text(size = 16),\n",
        "        axis.text.x = element_text(angle = 45, hjust = 1))"
      ],
      "metadata": {
        "colab": {
          "base_uri": "https://localhost:8080/",
          "height": 437
        },
        "id": "jGHm05JyVaEG",
        "outputId": "76ba561e-86b1-4950-94e8-ab11c5cf5385"
      },
      "execution_count": null,
      "outputs": [
        {
          "output_type": "display_data",
          "data": {
            "text/plain": [
              "plot without title"
            ],
            "image/png": "[encoded data removed]"
          },
          "metadata": {
            "image/png": {
              "width": 420,
              "height": 420
            }
          }
        }
      ]
    },
    {
      "cell_type": "markdown",
      "source": [
        "## Merging \"Potentially Successfully\" into \"Unsuccessful\""
      ],
      "metadata": {
        "id": "nDWUrShksokE"
      }
    },
    {
      "cell_type": "code",
      "source": [
        "df_new$success_metric_updated[df$success_metric_updated == 'Potentially Successful'] <- 'Unsuccessful'\n",
        "head(df)"
      ],
      "metadata": {
        "colab": {
          "base_uri": "https://localhost:8080/",
          "height": 410
        },
        "id": "Y59DWYb_cBRw",
        "outputId": "af781332-3e08-48df-b698-44400d25def3"
      },
      "execution_count": null,
      "outputs": [
        {
          "output_type": "display_data",
          "data": {
            "text/html": [
              "<table class=\"dataframe\">\n",
              "<caption>A data.frame: 6 × 37</caption>\n",
              "<thead>\n",
              "\t<tr><th></th><th scope=col>name</th><th scope=col>market</th><th scope=col>funding_total_usd</th><th scope=col>status</th><th scope=col>region</th><th scope=col>city</th><th scope=col>funding_rounds</th><th scope=col>founded_at</th><th scope=col>founded_month</th><th scope=col>founded_quarter</th><th scope=col>⋯</th><th scope=col>round_B</th><th scope=col>round_C</th><th scope=col>round_D</th><th scope=col>round_E</th><th scope=col>round_F</th><th scope=col>round_G</th><th scope=col>round_H</th><th scope=col>country</th><th scope=col>age</th><th scope=col>success_metric_updated</th></tr>\n",
              "\t<tr><th></th><th scope=col>&lt;chr&gt;</th><th scope=col>&lt;chr&gt;</th><th scope=col>&lt;dbl&gt;</th><th scope=col>&lt;chr&gt;</th><th scope=col>&lt;chr&gt;</th><th scope=col>&lt;chr&gt;</th><th scope=col>&lt;dbl&gt;</th><th scope=col>&lt;chr&gt;</th><th scope=col>&lt;chr&gt;</th><th scope=col>&lt;chr&gt;</th><th scope=col>⋯</th><th scope=col>&lt;dbl&gt;</th><th scope=col>&lt;dbl&gt;</th><th scope=col>&lt;dbl&gt;</th><th scope=col>&lt;dbl&gt;</th><th scope=col>&lt;dbl&gt;</th><th scope=col>&lt;dbl&gt;</th><th scope=col>&lt;dbl&gt;</th><th scope=col>&lt;chr&gt;</th><th scope=col>&lt;int&gt;</th><th scope=col>&lt;chr&gt;</th></tr>\n",
              "</thead>\n",
              "<tbody>\n",
              "\t<tr><th scope=row>1</th><td>#waywire          </td><td>News       </td><td>1750000</td><td>acquired </td><td>New York City        </td><td>New York  </td><td>1</td><td>2012-06-01</td><td>2012-06</td><td>2012-Q2</td><td>⋯</td><td>0</td><td>0</td><td>0</td><td>0</td><td>0</td><td>0</td><td>0</td><td>United States </td><td>2</td><td>Successful            </td></tr>\n",
              "\t<tr><th scope=row>2</th><td>'Rock' Your Paper </td><td>Publishing </td><td>  40000</td><td>operating</td><td>Tallinn              </td><td>Tallinn   </td><td>1</td><td>2012-10-26</td><td>2012-10</td><td>2012-Q4</td><td>⋯</td><td>0</td><td>0</td><td>0</td><td>0</td><td>0</td><td>0</td><td>0</td><td>Others        </td><td>2</td><td>Potentially Successful</td></tr>\n",
              "\t<tr><th scope=row>3</th><td>(In)Touch Network </td><td>Electronics</td><td>1500000</td><td>operating</td><td>London               </td><td>London    </td><td>1</td><td>2011-04-01</td><td>2011-04</td><td>2011-Q2</td><td>⋯</td><td>0</td><td>0</td><td>0</td><td>0</td><td>0</td><td>0</td><td>0</td><td>United Kingdom</td><td>3</td><td>Potentially Successful</td></tr>\n",
              "\t<tr><th scope=row>4</th><td>-R- Ranch and Mine</td><td>Tourism    </td><td>  60000</td><td>operating</td><td>Dallas               </td><td>Fort Worth</td><td>2</td><td>2014-01-01</td><td>2014-01</td><td>2014-Q1</td><td>⋯</td><td>0</td><td>0</td><td>0</td><td>0</td><td>0</td><td>0</td><td>0</td><td>United States </td><td>0</td><td>Potentially Successful</td></tr>\n",
              "\t<tr><th scope=row>5</th><td>004 Technologies  </td><td>Software   </td><td>      0</td><td>operating</td><td>Springfield, Illinois</td><td>Champaign </td><td>1</td><td>2010-01-01</td><td>2010-01</td><td>2010-Q1</td><td>⋯</td><td>0</td><td>0</td><td>0</td><td>0</td><td>0</td><td>0</td><td>0</td><td>United States </td><td>4</td><td>Potentially Successful</td></tr>\n",
              "\t<tr><th scope=row>6</th><td>1,2,3 Listo       </td><td>E-Commerce </td><td>  40000</td><td>operating</td><td>Santiago             </td><td>Las Condes</td><td>1</td><td>2012-01-01</td><td>2012-01</td><td>2012-Q1</td><td>⋯</td><td>0</td><td>0</td><td>0</td><td>0</td><td>0</td><td>0</td><td>0</td><td>Others        </td><td>2</td><td>Potentially Successful</td></tr>\n",
              "</tbody>\n",
              "</table>\n"
            ],
            "text/markdown": "\nA data.frame: 6 × 37\n\n| <!--/--> | name &lt;chr&gt; | market &lt;chr&gt; | funding_total_usd &lt;dbl&gt; | status &lt;chr&gt; | region &lt;chr&gt; | city &lt;chr&gt; | funding_rounds &lt;dbl&gt; | founded_at &lt;chr&gt; | founded_month &lt;chr&gt; | founded_quarter &lt;chr&gt; | ⋯ ⋯ | round_B &lt;dbl&gt; | round_C &lt;dbl&gt; | round_D &lt;dbl&gt; | round_E &lt;dbl&gt; | round_F &lt;dbl&gt; | round_G &lt;dbl&gt; | round_H &lt;dbl&gt; | country &lt;chr&gt; | age &lt;int&gt; | success_metric_updated &lt;chr&gt; |\n|---|---|---|---|---|---|---|---|---|---|---|---|---|---|---|---|---|---|---|---|---|---|\n| 1 | #waywire           | News        | 1750000 | acquired  | New York City         | New York   | 1 | 2012-06-01 | 2012-06 | 2012-Q2 | ⋯ | 0 | 0 | 0 | 0 | 0 | 0 | 0 | United States  | 2 | Successful             |\n| 2 | 'Rock' Your Paper  | Publishing  |   40000 | operating | Tallinn               | Tallinn    | 1 | 2012-10-26 | 2012-10 | 2012-Q4 | ⋯ | 0 | 0 | 0 | 0 | 0 | 0 | 0 | Others         | 2 | Potentially Successful |\n| 3 | (In)Touch Network  | Electronics | 1500000 | operating | London                | London     | 1 | 2011-04-01 | 2011-04 | 2011-Q2 | ⋯ | 0 | 0 | 0 | 0 | 0 | 0 | 0 | United Kingdom | 3 | Potentially Successful |\n| 4 | -R- Ranch and Mine | Tourism     |   60000 | operating | Dallas                | Fort Worth | 2 | 2014-01-01 | 2014-01 | 2014-Q1 | ⋯ | 0 | 0 | 0 | 0 | 0 | 0 | 0 | United States  | 0 | Potentially Successful |\n| 5 | 004 Technologies   | Software    |       0 | operating | Springfield, Illinois | Champaign  | 1 | 2010-01-01 | 2010-01 | 2010-Q1 | ⋯ | 0 | 0 | 0 | 0 | 0 | 0 | 0 | United States  | 4 | Potentially Successful |\n| 6 | 1,2,3 Listo        | E-Commerce  |   40000 | operating | Santiago              | Las Condes | 1 | 2012-01-01 | 2012-01 | 2012-Q1 | ⋯ | 0 | 0 | 0 | 0 | 0 | 0 | 0 | Others         | 2 | Potentially Successful |\n\n",
            "text/latex": "A data.frame: 6 × 37\n\\begin{tabular}{r|lllllllllllllllllllll}\n  & name & market & funding\\_total\\_usd & status & region & city & funding\\_rounds & founded\\_at & founded\\_month & founded\\_quarter & ⋯ & round\\_B & round\\_C & round\\_D & round\\_E & round\\_F & round\\_G & round\\_H & country & age & success\\_metric\\_updated\\\\\n  & <chr> & <chr> & <dbl> & <chr> & <chr> & <chr> & <dbl> & <chr> & <chr> & <chr> & ⋯ & <dbl> & <dbl> & <dbl> & <dbl> & <dbl> & <dbl> & <dbl> & <chr> & <int> & <chr>\\\\\n\\hline\n\t1 & \\#waywire           & News        & 1750000 & acquired  & New York City         & New York   & 1 & 2012-06-01 & 2012-06 & 2012-Q2 & ⋯ & 0 & 0 & 0 & 0 & 0 & 0 & 0 & United States  & 2 & Successful            \\\\\n\t2 & 'Rock' Your Paper  & Publishing  &   40000 & operating & Tallinn               & Tallinn    & 1 & 2012-10-26 & 2012-10 & 2012-Q4 & ⋯ & 0 & 0 & 0 & 0 & 0 & 0 & 0 & Others         & 2 & Potentially Successful\\\\\n\t3 & (In)Touch Network  & Electronics & 1500000 & operating & London                & London     & 1 & 2011-04-01 & 2011-04 & 2011-Q2 & ⋯ & 0 & 0 & 0 & 0 & 0 & 0 & 0 & United Kingdom & 3 & Potentially Successful\\\\\n\t4 & -R- Ranch and Mine & Tourism     &   60000 & operating & Dallas                & Fort Worth & 2 & 2014-01-01 & 2014-01 & 2014-Q1 & ⋯ & 0 & 0 & 0 & 0 & 0 & 0 & 0 & United States  & 0 & Potentially Successful\\\\\n\t5 & 004 Technologies   & Software    &       0 & operating & Springfield, Illinois & Champaign  & 1 & 2010-01-01 & 2010-01 & 2010-Q1 & ⋯ & 0 & 0 & 0 & 0 & 0 & 0 & 0 & United States  & 4 & Potentially Successful\\\\\n\t6 & 1,2,3 Listo        & E-Commerce  &   40000 & operating & Santiago              & Las Condes & 1 & 2012-01-01 & 2012-01 & 2012-Q1 & ⋯ & 0 & 0 & 0 & 0 & 0 & 0 & 0 & Others         & 2 & Potentially Successful\\\\\n\\end{tabular}\n",
            "text/plain": [
              "  name               market      funding_total_usd status   \n",
              "1 #waywire           News        1750000           acquired \n",
              "2 'Rock' Your Paper  Publishing    40000           operating\n",
              "3 (In)Touch Network  Electronics 1500000           operating\n",
              "4 -R- Ranch and Mine Tourism       60000           operating\n",
              "5 004 Technologies   Software          0           operating\n",
              "6 1,2,3 Listo        E-Commerce    40000           operating\n",
              "  region                city       funding_rounds founded_at founded_month\n",
              "1 New York City         New York   1              2012-06-01 2012-06      \n",
              "2 Tallinn               Tallinn    1              2012-10-26 2012-10      \n",
              "3 London                London     1              2011-04-01 2011-04      \n",
              "4 Dallas                Fort Worth 2              2014-01-01 2014-01      \n",
              "5 Springfield, Illinois Champaign  1              2010-01-01 2010-01      \n",
              "6 Santiago              Las Condes 1              2012-01-01 2012-01      \n",
              "  founded_quarter ⋯ round_B round_C round_D round_E round_F round_G round_H\n",
              "1 2012-Q2         ⋯ 0       0       0       0       0       0       0      \n",
              "2 2012-Q4         ⋯ 0       0       0       0       0       0       0      \n",
              "3 2011-Q2         ⋯ 0       0       0       0       0       0       0      \n",
              "4 2014-Q1         ⋯ 0       0       0       0       0       0       0      \n",
              "5 2010-Q1         ⋯ 0       0       0       0       0       0       0      \n",
              "6 2012-Q1         ⋯ 0       0       0       0       0       0       0      \n",
              "  country        age success_metric_updated\n",
              "1 United States  2   Successful            \n",
              "2 Others         2   Potentially Successful\n",
              "3 United Kingdom 3   Potentially Successful\n",
              "4 United States  0   Potentially Successful\n",
              "5 United States  4   Potentially Successful\n",
              "6 Others         2   Potentially Successful"
            ]
          },
          "metadata": {}
        }
      ]
    },
    {
      "cell_type": "code",
      "source": [
        "df_new <- df_new[c(\"country\", \"success_metric_updated\")]\n",
        "head(df_new)"
      ],
      "metadata": {
        "colab": {
          "base_uri": "https://localhost:8080/",
          "height": 286
        },
        "id": "9aWw2P2NNMq1",
        "outputId": "b4639111-2040-4d73-ce61-62080e8fcc43"
      },
      "execution_count": null,
      "outputs": [
        {
          "output_type": "display_data",
          "data": {
            "text/html": [
              "<table class=\"dataframe\">\n",
              "<caption>A data.frame: 6 × 2</caption>\n",
              "<thead>\n",
              "\t<tr><th></th><th scope=col>country</th><th scope=col>success_metric_updated</th></tr>\n",
              "\t<tr><th></th><th scope=col>&lt;chr&gt;</th><th scope=col>&lt;chr&gt;</th></tr>\n",
              "</thead>\n",
              "<tbody>\n",
              "\t<tr><th scope=row>1</th><td>United States </td><td>Successful  </td></tr>\n",
              "\t<tr><th scope=row>2</th><td>Others        </td><td>Unsuccessful</td></tr>\n",
              "\t<tr><th scope=row>3</th><td>United Kingdom</td><td>Unsuccessful</td></tr>\n",
              "\t<tr><th scope=row>4</th><td>United States </td><td>Unsuccessful</td></tr>\n",
              "\t<tr><th scope=row>5</th><td>United States </td><td>Unsuccessful</td></tr>\n",
              "\t<tr><th scope=row>6</th><td>Others        </td><td>Unsuccessful</td></tr>\n",
              "</tbody>\n",
              "</table>\n"
            ],
            "text/markdown": "\nA data.frame: 6 × 2\n\n| <!--/--> | country &lt;chr&gt; | success_metric_updated &lt;chr&gt; |\n|---|---|---|\n| 1 | United States  | Successful   |\n| 2 | Others         | Unsuccessful |\n| 3 | United Kingdom | Unsuccessful |\n| 4 | United States  | Unsuccessful |\n| 5 | United States  | Unsuccessful |\n| 6 | Others         | Unsuccessful |\n\n",
            "text/latex": "A data.frame: 6 × 2\n\\begin{tabular}{r|ll}\n  & country & success\\_metric\\_updated\\\\\n  & <chr> & <chr>\\\\\n\\hline\n\t1 & United States  & Successful  \\\\\n\t2 & Others         & Unsuccessful\\\\\n\t3 & United Kingdom & Unsuccessful\\\\\n\t4 & United States  & Unsuccessful\\\\\n\t5 & United States  & Unsuccessful\\\\\n\t6 & Others         & Unsuccessful\\\\\n\\end{tabular}\n",
            "text/plain": [
              "  country        success_metric_updated\n",
              "1 United States  Successful            \n",
              "2 Others         Unsuccessful          \n",
              "3 United Kingdom Unsuccessful          \n",
              "4 United States  Unsuccessful          \n",
              "5 United States  Unsuccessful          \n",
              "6 Others         Unsuccessful          "
            ]
          },
          "metadata": {}
        }
      ]
    },
    {
      "cell_type": "markdown",
      "source": [
        "## Contigency tables"
      ],
      "metadata": {
        "id": "O450iNoCsw7g"
      }
    },
    {
      "cell_type": "code",
      "source": [
        "tbl <- table(df_new$country,df_new$success_metric_updated)\n",
        "tbl"
      ],
      "metadata": {
        "colab": {
          "base_uri": "https://localhost:8080/",
          "height": 156
        },
        "id": "E_uB4DZXNdwY",
        "outputId": "b6a4e5da-22dd-4591-9d5d-a1510d1885cd"
      },
      "execution_count": null,
      "outputs": [
        {
          "output_type": "display_data",
          "data": {
            "text/plain": [
              "                \n",
              "                 Successful Unsuccessful\n",
              "  Canada                441          594\n",
              "  Germany               269          428\n",
              "  India                 220          424\n",
              "  Others               2266         4145\n",
              "  United Kingdom        712         1084\n",
              "  United States       10154        12028"
            ]
          },
          "metadata": {}
        }
      ]
    },
    {
      "cell_type": "code",
      "source": [
        "install.packages(\"lsr\")"
      ],
      "metadata": {
        "colab": {
          "base_uri": "https://localhost:8080/"
        },
        "id": "XUg5MBiOIV7_",
        "outputId": "22fdfafc-6379-45ec-f622-b9f2de625c0d"
      },
      "execution_count": null,
      "outputs": [
        {
          "output_type": "stream",
          "name": "stderr",
          "text": [
            "Installing package into ‘/usr/local/lib/R/site-library’\n",
            "(as ‘lib’ is unspecified)\n",
            "\n"
          ]
        }
      ]
    },
    {
      "cell_type": "code",
      "source": [
        "library(lsr)\n",
        "\n",
        "\n",
        "cramer_v <- cramersV(tbl)\n",
        "\n",
        "cat(\"Cramer's V:\", cramer_v)\n"
      ],
      "metadata": {
        "colab": {
          "base_uri": "https://localhost:8080/"
        },
        "id": "hyY3X7LbIRao",
        "outputId": "25e38a15-0c5c-44d9-9129-5b7795ea0e86"
      },
      "execution_count": null,
      "outputs": [
        {
          "output_type": "stream",
          "name": "stdout",
          "text": [
            "Cramer's V: 0.08863159"
          ]
        }
      ]
    },
    {
      "cell_type": "code",
      "source": [
        "tbl_prop <- prop.table(tbl, 1)\n",
        "tbl_prop"
      ],
      "metadata": {
        "colab": {
          "base_uri": "https://localhost:8080/",
          "height": 156
        },
        "id": "bjNk4dP81BL2",
        "outputId": "5e1f5b87-f404-42cb-d23f-630e560850ce"
      },
      "execution_count": null,
      "outputs": [
        {
          "output_type": "display_data",
          "data": {
            "text/plain": [
              "                \n",
              "                 Successful Unsuccessful\n",
              "  Canada          0.4260870    0.5739130\n",
              "  Germany         0.3859397    0.6140603\n",
              "  India           0.3416149    0.6583851\n",
              "  Others          0.3534550    0.6465450\n",
              "  United Kingdom  0.3964365    0.6035635\n",
              "  United States   0.4577585    0.5422415"
            ]
          },
          "metadata": {}
        }
      ]
    },
    {
      "cell_type": "markdown",
      "source": [
        "## Chi square"
      ],
      "metadata": {
        "id": "FDCAY1ves5IA"
      }
    },
    {
      "cell_type": "code",
      "source": [
        "chisq.test(tbl)"
      ],
      "metadata": {
        "colab": {
          "base_uri": "https://localhost:8080/",
          "height": 104
        },
        "id": "dA2DCEvcOizJ",
        "outputId": "cfe6f383-1352-4ebb-ca53-f7b3ca549b15"
      },
      "execution_count": null,
      "outputs": [
        {
          "output_type": "display_data",
          "data": {
            "text/plain": [
              "\n",
              "\tPearson's Chi-squared test\n",
              "\n",
              "data:  tbl\n",
              "X-squared = 257.39, df = 5, p-value < 2.2e-16\n"
            ]
          },
          "metadata": {}
        }
      ]
    },
    {
      "cell_type": "markdown",
      "source": [
        "# Testing if proportion of success for US is different from other countries"
      ],
      "metadata": {
        "id": "4dcNWPH7tnNL"
      }
    },
    {
      "cell_type": "code",
      "source": [
        "# Create a new data frame with the \"Others\" category\n",
        "df_new_merge <- df[c(\"country\", \"success_metric_updated\")]\n",
        "df_new_merge$country[!(df_new_merge$country %in% c(\"United States\", \"Others\"))] <- \"Others\"\n",
        "\n",
        "# Create a new table with the updated data frame\n",
        "tbl_merge <- table(df_new_merge$country, df_new_merge$success_metric_updated)\n",
        "\n",
        "tbl_merge"
      ],
      "metadata": {
        "colab": {
          "base_uri": "https://localhost:8080/",
          "height": 86
        },
        "id": "bJwHr8qkDcvA",
        "outputId": "ba4f39ab-dc76-4e42-8193-5da4a372f994"
      },
      "execution_count": null,
      "outputs": [
        {
          "output_type": "display_data",
          "data": {
            "text/plain": [
              "               \n",
              "                Potentially Successful Successful Unsuccessful\n",
              "  Others                          6122       3908          553\n",
              "  United States                  10879      10154         1149"
            ]
          },
          "metadata": {}
        }
      ]
    },
    {
      "cell_type": "code",
      "source": [
        "cramer_v <- cramersV(tbl_merge)\n",
        "cat(\"Cramer's V:\", cramer_v)"
      ],
      "metadata": {
        "colab": {
          "base_uri": "https://localhost:8080/"
        },
        "id": "5wCwfVBDJR5A",
        "outputId": "a2f403f1-81a5-427f-beb8-b13d8344f16e"
      },
      "execution_count": null,
      "outputs": [
        {
          "output_type": "stream",
          "name": "stdout",
          "text": [
            "Cramer's V: 0.08518362"
          ]
        }
      ]
    },
    {
      "cell_type": "code",
      "source": [
        "# Subset data for US and Others\n",
        "usa_data <- df_new_merge[df_new_merge$country == \"United States\", ]\n",
        "other_data <- df_new_merge[df_new_merge$country != \"United States\", ]\n",
        "\n",
        "# Calculate success proportions for each group\n",
        "p_usa <- sum(usa_data$success_metric_updated == \"Successful\") / nrow(usa_data)\n",
        "p_other <- sum(other_data$success_metric_updated == \"Successful\") / nrow(other_data)\n",
        "\n",
        "# Calculate pooled proportion (assuming equal variances)\n",
        "pooled_p <- (sum(usa_data$success_metric_updated == \"Successful\") + sum(other_data$success_metric_updated == \"Successful\")) / (nrow(usa_data) + nrow(other_data))\n",
        "\n",
        "# Calculate standard error for the difference in proportions\n",
        "se_diff <- sqrt(pooled_p * (1 - pooled_p) * (1/nrow(usa_data) + 1/nrow(other_data)))\n",
        "\n",
        "# Calculate the z-statistic\n",
        "z_stat <- (p_usa - p_other) / se_diff\n",
        "\n",
        "# Interpretation\n",
        "# A p-value less than the chosen significance level 0.05 indicates\n",
        "# a statistically significant difference between the success proportions\n",
        "# in US and Others category.\n"
      ],
      "metadata": {
        "id": "vkC8EPk2IuFO"
      },
      "execution_count": null,
      "outputs": []
    },
    {
      "cell_type": "code",
      "source": [
        "\n",
        "# Confidence level (e.g., 95%)\n",
        "confidence_level <- 0.95\n",
        "\n",
        "# Critical value (one-tailed) from standard normal distribution table for confidence level\n",
        "z_crit <- qnorm(1 - (1 - confidence_level) / 2, mean = 0, sd = 1)\n",
        "\n",
        "# Confidence interval for the difference in proportions\n",
        "lower_bound <- (p_usa - p_other) - z_crit * se_diff\n",
        "upper_bound <- (p_usa - p_other) + z_crit * se_diff\n",
        "\n",
        "# Interpretation\n",
        "# Report the z-statistic, p-value, and confidence interval.\n",
        "# The confidence interval captures the range of plausible values for the true\n",
        "# difference in success proportions between US and Others with a confidence level\n",
        "# of (e.g.,) 95%.\n",
        "\n",
        "cat(\"z-statistic:\", z_stat, \"\\n\")\n",
        "cat(\"p-value (two-tailed):\", 2 * pnorm(-abs(z_stat), mean = 0, sd = 1, lower.tail = TRUE), \"\\n\")\n",
        "cat(\"Confidence Interval (\", confidence_level * 100, \"%):\", lower_bound, \" - \", upper_bound, \"\\n\")\n"
      ],
      "metadata": {
        "colab": {
          "base_uri": "https://localhost:8080/"
        },
        "id": "Q10kmMYALzn7",
        "outputId": "e538e02a-f669-47cb-87ac-3f408b0e5367"
      },
      "execution_count": null,
      "outputs": [
        {
          "output_type": "stream",
          "name": "stdout",
          "text": [
            "z-statistic: 15.13249 \n",
            "p-value (two-tailed): 9.887838e-52 \n",
            "Confidence Interval ( 95 %): 0.0770262  -  0.09994794 \n"
          ]
        }
      ]
    },
    {
      "cell_type": "markdown",
      "source": [
        "# City level analysis\n"
      ],
      "metadata": {
        "id": "lp-7irnbucd5"
      }
    },
    {
      "cell_type": "code",
      "source": [
        "df_us <- df %>%\n",
        "  filter(country == \"United States\")\n",
        "\n",
        "length(unique(df_us$city))\n",
        "\n",
        "top_5_cities <- df_us %>%\n",
        "  count(city, sort = TRUE) %>%\n",
        "  head(5) %>%\n",
        "  pull(city)\n",
        "\n",
        "df_us$city[!(df_us$city %in% top_5_cities)] <- \"Others\"\n",
        "head(df_us)\n"
      ],
      "metadata": {
        "colab": {
          "base_uri": "https://localhost:8080/",
          "height": 462
        },
        "id": "zQ2G5ww5SaUK",
        "outputId": "f06b6cab-6152-4b22-c2ef-8670e053dbfe"
      },
      "execution_count": null,
      "outputs": [
        {
          "output_type": "display_data",
          "data": {
            "text/html": [
              "1975"
            ],
            "text/markdown": "1975",
            "text/latex": "1975",
            "text/plain": [
              "[1] 1975"
            ]
          },
          "metadata": {}
        },
        {
          "output_type": "display_data",
          "data": {
            "text/html": [
              "<table class=\"dataframe\">\n",
              "<caption>A data.frame: 6 × 37</caption>\n",
              "<thead>\n",
              "\t<tr><th></th><th scope=col>name</th><th scope=col>market</th><th scope=col>funding_total_usd</th><th scope=col>status</th><th scope=col>region</th><th scope=col>city</th><th scope=col>funding_rounds</th><th scope=col>founded_at</th><th scope=col>founded_month</th><th scope=col>founded_quarter</th><th scope=col>⋯</th><th scope=col>round_B</th><th scope=col>round_C</th><th scope=col>round_D</th><th scope=col>round_E</th><th scope=col>round_F</th><th scope=col>round_G</th><th scope=col>round_H</th><th scope=col>country</th><th scope=col>age</th><th scope=col>success_metric_updated</th></tr>\n",
              "\t<tr><th></th><th scope=col>&lt;chr&gt;</th><th scope=col>&lt;chr&gt;</th><th scope=col>&lt;dbl&gt;</th><th scope=col>&lt;chr&gt;</th><th scope=col>&lt;chr&gt;</th><th scope=col>&lt;chr&gt;</th><th scope=col>&lt;dbl&gt;</th><th scope=col>&lt;chr&gt;</th><th scope=col>&lt;chr&gt;</th><th scope=col>&lt;chr&gt;</th><th scope=col>⋯</th><th scope=col>&lt;dbl&gt;</th><th scope=col>&lt;dbl&gt;</th><th scope=col>&lt;dbl&gt;</th><th scope=col>&lt;dbl&gt;</th><th scope=col>&lt;dbl&gt;</th><th scope=col>&lt;dbl&gt;</th><th scope=col>&lt;dbl&gt;</th><th scope=col>&lt;chr&gt;</th><th scope=col>&lt;int&gt;</th><th scope=col>&lt;chr&gt;</th></tr>\n",
              "</thead>\n",
              "<tbody>\n",
              "\t<tr><th scope=row>1</th><td>#waywire          </td><td>News               </td><td>1750000</td><td>acquired </td><td>New York City        </td><td>New York</td><td>1</td><td>2012-06-01</td><td>2012-06</td><td>2012-Q2</td><td>⋯</td><td>0</td><td>0</td><td>0</td><td>0</td><td>0</td><td>0</td><td>0</td><td>United States</td><td> 2</td><td>Successful            </td></tr>\n",
              "\t<tr><th scope=row>2</th><td>-R- Ranch and Mine</td><td>Tourism            </td><td>  60000</td><td>operating</td><td>Dallas               </td><td>Others  </td><td>2</td><td>2014-01-01</td><td>2014-01</td><td>2014-Q1</td><td>⋯</td><td>0</td><td>0</td><td>0</td><td>0</td><td>0</td><td>0</td><td>0</td><td>United States</td><td> 0</td><td>Potentially Successful</td></tr>\n",
              "\t<tr><th scope=row>3</th><td>004 Technologies  </td><td>Software           </td><td>      0</td><td>operating</td><td>Springfield, Illinois</td><td>Others  </td><td>1</td><td>2010-01-01</td><td>2010-01</td><td>2010-Q1</td><td>⋯</td><td>0</td><td>0</td><td>0</td><td>0</td><td>0</td><td>0</td><td>0</td><td>United States</td><td> 4</td><td>Potentially Successful</td></tr>\n",
              "\t<tr><th scope=row>4</th><td>1-800-DENTIST     </td><td>Health and Wellness</td><td>      0</td><td>operating</td><td>Los Angeles          </td><td>Others  </td><td>1</td><td>1986-01-01</td><td>1986-01</td><td>1986-Q1</td><td>⋯</td><td>0</td><td>0</td><td>0</td><td>0</td><td>0</td><td>0</td><td>0</td><td>United States</td><td>28</td><td>Successful            </td></tr>\n",
              "\t<tr><th scope=row>5</th><td>1-800-DOCTORS     </td><td>Health and Wellness</td><td>1750000</td><td>operating</td><td>Newark               </td><td>Others  </td><td>1</td><td>1984-01-01</td><td>1984-01</td><td>1984-Q1</td><td>⋯</td><td>0</td><td>0</td><td>0</td><td>0</td><td>0</td><td>0</td><td>0</td><td>United States</td><td>30</td><td>Successful            </td></tr>\n",
              "\t<tr><th scope=row>6</th><td>1.618 Technology  </td><td>Real Estate        </td><td>      0</td><td>operating</td><td>Orlando              </td><td>Others  </td><td>1</td><td>2013-12-07</td><td>2013-12</td><td>2013-Q4</td><td>⋯</td><td>0</td><td>0</td><td>0</td><td>0</td><td>0</td><td>0</td><td>0</td><td>United States</td><td> 1</td><td>Potentially Successful</td></tr>\n",
              "</tbody>\n",
              "</table>\n"
            ],
            "text/markdown": "\nA data.frame: 6 × 37\n\n| <!--/--> | name &lt;chr&gt; | market &lt;chr&gt; | funding_total_usd &lt;dbl&gt; | status &lt;chr&gt; | region &lt;chr&gt; | city &lt;chr&gt; | funding_rounds &lt;dbl&gt; | founded_at &lt;chr&gt; | founded_month &lt;chr&gt; | founded_quarter &lt;chr&gt; | ⋯ ⋯ | round_B &lt;dbl&gt; | round_C &lt;dbl&gt; | round_D &lt;dbl&gt; | round_E &lt;dbl&gt; | round_F &lt;dbl&gt; | round_G &lt;dbl&gt; | round_H &lt;dbl&gt; | country &lt;chr&gt; | age &lt;int&gt; | success_metric_updated &lt;chr&gt; |\n|---|---|---|---|---|---|---|---|---|---|---|---|---|---|---|---|---|---|---|---|---|---|\n| 1 | #waywire           | News                | 1750000 | acquired  | New York City         | New York | 1 | 2012-06-01 | 2012-06 | 2012-Q2 | ⋯ | 0 | 0 | 0 | 0 | 0 | 0 | 0 | United States |  2 | Successful             |\n| 2 | -R- Ranch and Mine | Tourism             |   60000 | operating | Dallas                | Others   | 2 | 2014-01-01 | 2014-01 | 2014-Q1 | ⋯ | 0 | 0 | 0 | 0 | 0 | 0 | 0 | United States |  0 | Potentially Successful |\n| 3 | 004 Technologies   | Software            |       0 | operating | Springfield, Illinois | Others   | 1 | 2010-01-01 | 2010-01 | 2010-Q1 | ⋯ | 0 | 0 | 0 | 0 | 0 | 0 | 0 | United States |  4 | Potentially Successful |\n| 4 | 1-800-DENTIST      | Health and Wellness |       0 | operating | Los Angeles           | Others   | 1 | 1986-01-01 | 1986-01 | 1986-Q1 | ⋯ | 0 | 0 | 0 | 0 | 0 | 0 | 0 | United States | 28 | Successful             |\n| 5 | 1-800-DOCTORS      | Health and Wellness | 1750000 | operating | Newark                | Others   | 1 | 1984-01-01 | 1984-01 | 1984-Q1 | ⋯ | 0 | 0 | 0 | 0 | 0 | 0 | 0 | United States | 30 | Successful             |\n| 6 | 1.618 Technology   | Real Estate         |       0 | operating | Orlando               | Others   | 1 | 2013-12-07 | 2013-12 | 2013-Q4 | ⋯ | 0 | 0 | 0 | 0 | 0 | 0 | 0 | United States |  1 | Potentially Successful |\n\n",
            "text/latex": "A data.frame: 6 × 37\n\\begin{tabular}{r|lllllllllllllllllllll}\n  & name & market & funding\\_total\\_usd & status & region & city & funding\\_rounds & founded\\_at & founded\\_month & founded\\_quarter & ⋯ & round\\_B & round\\_C & round\\_D & round\\_E & round\\_F & round\\_G & round\\_H & country & age & success\\_metric\\_updated\\\\\n  & <chr> & <chr> & <dbl> & <chr> & <chr> & <chr> & <dbl> & <chr> & <chr> & <chr> & ⋯ & <dbl> & <dbl> & <dbl> & <dbl> & <dbl> & <dbl> & <dbl> & <chr> & <int> & <chr>\\\\\n\\hline\n\t1 & \\#waywire           & News                & 1750000 & acquired  & New York City         & New York & 1 & 2012-06-01 & 2012-06 & 2012-Q2 & ⋯ & 0 & 0 & 0 & 0 & 0 & 0 & 0 & United States &  2 & Successful            \\\\\n\t2 & -R- Ranch and Mine & Tourism             &   60000 & operating & Dallas                & Others   & 2 & 2014-01-01 & 2014-01 & 2014-Q1 & ⋯ & 0 & 0 & 0 & 0 & 0 & 0 & 0 & United States &  0 & Potentially Successful\\\\\n\t3 & 004 Technologies   & Software            &       0 & operating & Springfield, Illinois & Others   & 1 & 2010-01-01 & 2010-01 & 2010-Q1 & ⋯ & 0 & 0 & 0 & 0 & 0 & 0 & 0 & United States &  4 & Potentially Successful\\\\\n\t4 & 1-800-DENTIST      & Health and Wellness &       0 & operating & Los Angeles           & Others   & 1 & 1986-01-01 & 1986-01 & 1986-Q1 & ⋯ & 0 & 0 & 0 & 0 & 0 & 0 & 0 & United States & 28 & Successful            \\\\\n\t5 & 1-800-DOCTORS      & Health and Wellness & 1750000 & operating & Newark                & Others   & 1 & 1984-01-01 & 1984-01 & 1984-Q1 & ⋯ & 0 & 0 & 0 & 0 & 0 & 0 & 0 & United States & 30 & Successful            \\\\\n\t6 & 1.618 Technology   & Real Estate         &       0 & operating & Orlando               & Others   & 1 & 2013-12-07 & 2013-12 & 2013-Q4 & ⋯ & 0 & 0 & 0 & 0 & 0 & 0 & 0 & United States &  1 & Potentially Successful\\\\\n\\end{tabular}\n",
            "text/plain": [
              "  name               market              funding_total_usd status   \n",
              "1 #waywire           News                1750000           acquired \n",
              "2 -R- Ranch and Mine Tourism               60000           operating\n",
              "3 004 Technologies   Software                  0           operating\n",
              "4 1-800-DENTIST      Health and Wellness       0           operating\n",
              "5 1-800-DOCTORS      Health and Wellness 1750000           operating\n",
              "6 1.618 Technology   Real Estate               0           operating\n",
              "  region                city     funding_rounds founded_at founded_month\n",
              "1 New York City         New York 1              2012-06-01 2012-06      \n",
              "2 Dallas                Others   2              2014-01-01 2014-01      \n",
              "3 Springfield, Illinois Others   1              2010-01-01 2010-01      \n",
              "4 Los Angeles           Others   1              1986-01-01 1986-01      \n",
              "5 Newark                Others   1              1984-01-01 1984-01      \n",
              "6 Orlando               Others   1              2013-12-07 2013-12      \n",
              "  founded_quarter ⋯ round_B round_C round_D round_E round_F round_G round_H\n",
              "1 2012-Q2         ⋯ 0       0       0       0       0       0       0      \n",
              "2 2014-Q1         ⋯ 0       0       0       0       0       0       0      \n",
              "3 2010-Q1         ⋯ 0       0       0       0       0       0       0      \n",
              "4 1986-Q1         ⋯ 0       0       0       0       0       0       0      \n",
              "5 1984-Q1         ⋯ 0       0       0       0       0       0       0      \n",
              "6 2013-Q4         ⋯ 0       0       0       0       0       0       0      \n",
              "  country       age success_metric_updated\n",
              "1 United States  2  Successful            \n",
              "2 United States  0  Potentially Successful\n",
              "3 United States  4  Potentially Successful\n",
              "4 United States 28  Successful            \n",
              "5 United States 30  Successful            \n",
              "6 United States  1  Potentially Successful"
            ]
          },
          "metadata": {}
        }
      ]
    },
    {
      "cell_type": "code",
      "source": [
        "library(ggplot2)\n",
        "\n",
        "ggplot(df_us, aes(x = city, fill = success_metric_updated)) +\n",
        "  geom_bar(stat = \"count\", position = \"fill\") +\n",
        "  scale_fill_brewer(palette = \"Set3\") +\n",
        "  scale_y_continuous(name = \"percent\",\n",
        "                     breaks = c(0, 0.5, 1),\n",
        "                     labels = scales::percent(c(0, 0.5, 1))) +\n",
        "  labs(title = \"Proportion of Success Metrics by City\",\n",
        "       x = \"City\",\n",
        "       y = \"Proportion\") +\n",
        "  # Increase font size and rotate x-axis labels\n",
        "  theme(axis.text = element_text(size = 14),  # Change 14 to your desired size\n",
        "        axis.title = element_text(size = 16),  # Change 16 to your desired size\n",
        "        axis.text.x = element_text(angle = 45, hjust = 1))  # Rotate x-axis labels\n",
        "\n"
      ],
      "metadata": {
        "colab": {
          "base_uri": "https://localhost:8080/",
          "height": 437
        },
        "id": "-A0B-hUJWbaS",
        "outputId": "43f53de5-cfff-472c-92ef-f2f9144f4994"
      },
      "execution_count": null,
      "outputs": [
        {
          "output_type": "display_data",
          "data": {
            "text/plain": [
              "plot without title"
            ],
            "image/png": "[encoded data removed]"
          },
          "metadata": {
            "image/png": {
              "width": 420,
              "height": 420
            }
          }
        }
      ]
    },
    {
      "cell_type": "code",
      "source": [],
      "metadata": {
        "id": "9g98ZIVv53g-"
      },
      "execution_count": null,
      "outputs": []
    },
    {
      "cell_type": "code",
      "source": [
        "df_us_new$success_metric_updated[df_us$success_metric_updated == 'Potentially Successful'] <- 'Unsuccessful'"
      ],
      "metadata": {
        "id": "kXeHtmD2x31X"
      },
      "execution_count": null,
      "outputs": []
    },
    {
      "cell_type": "code",
      "source": [
        "df_us_new <- df_us_new[c(\"city\", \"success_metric_updated\")]\n",
        "head(df_us_new)"
      ],
      "metadata": {
        "colab": {
          "base_uri": "https://localhost:8080/",
          "height": 286
        },
        "id": "xRl_c4LOTJM2",
        "outputId": "a444f6e7-29c8-4113-b303-9adb420c65dc"
      },
      "execution_count": null,
      "outputs": [
        {
          "output_type": "display_data",
          "data": {
            "text/html": [
              "<table class=\"dataframe\">\n",
              "<caption>A data.frame: 6 × 2</caption>\n",
              "<thead>\n",
              "\t<tr><th></th><th scope=col>city</th><th scope=col>success_metric_updated</th></tr>\n",
              "\t<tr><th></th><th scope=col>&lt;chr&gt;</th><th scope=col>&lt;chr&gt;</th></tr>\n",
              "</thead>\n",
              "<tbody>\n",
              "\t<tr><th scope=row>1</th><td>New York</td><td>Successful  </td></tr>\n",
              "\t<tr><th scope=row>2</th><td>Others  </td><td>Unsuccessful</td></tr>\n",
              "\t<tr><th scope=row>3</th><td>Others  </td><td>Unsuccessful</td></tr>\n",
              "\t<tr><th scope=row>4</th><td>Others  </td><td>Successful  </td></tr>\n",
              "\t<tr><th scope=row>5</th><td>Others  </td><td>Successful  </td></tr>\n",
              "\t<tr><th scope=row>6</th><td>Others  </td><td>Unsuccessful</td></tr>\n",
              "</tbody>\n",
              "</table>\n"
            ],
            "text/markdown": "\nA data.frame: 6 × 2\n\n| <!--/--> | city &lt;chr&gt; | success_metric_updated &lt;chr&gt; |\n|---|---|---|\n| 1 | New York | Successful   |\n| 2 | Others   | Unsuccessful |\n| 3 | Others   | Unsuccessful |\n| 4 | Others   | Successful   |\n| 5 | Others   | Successful   |\n| 6 | Others   | Unsuccessful |\n\n",
            "text/latex": "A data.frame: 6 × 2\n\\begin{tabular}{r|ll}\n  & city & success\\_metric\\_updated\\\\\n  & <chr> & <chr>\\\\\n\\hline\n\t1 & New York & Successful  \\\\\n\t2 & Others   & Unsuccessful\\\\\n\t3 & Others   & Unsuccessful\\\\\n\t4 & Others   & Successful  \\\\\n\t5 & Others   & Successful  \\\\\n\t6 & Others   & Unsuccessful\\\\\n\\end{tabular}\n",
            "text/plain": [
              "  city     success_metric_updated\n",
              "1 New York Successful            \n",
              "2 Others   Unsuccessful          \n",
              "3 Others   Unsuccessful          \n",
              "4 Others   Successful            \n",
              "5 Others   Successful            \n",
              "6 Others   Unsuccessful          "
            ]
          },
          "metadata": {}
        }
      ]
    },
    {
      "cell_type": "code",
      "source": [
        "tbl2 <- table(df_us_new$city,df_us_new$success_metric_updated)\n",
        "tbl2"
      ],
      "metadata": {
        "colab": {
          "base_uri": "https://localhost:8080/",
          "height": 156
        },
        "id": "szetGNI8TWFl",
        "outputId": "08e9ef24-c4a4-4f1e-fb3a-c6f3f96e0729"
      },
      "execution_count": null,
      "outputs": [
        {
          "output_type": "display_data",
          "data": {
            "text/plain": [
              "               \n",
              "                Successful Unsuccessful\n",
              "  Austin               220          242\n",
              "  New York             655         1296\n",
              "  Others              8118         8500\n",
              "  Palo Alto            192          292\n",
              "  San Francisco        756         1463\n",
              "  Seattle              213          235"
            ]
          },
          "metadata": {}
        }
      ]
    },
    {
      "cell_type": "code",
      "source": [
        "cramer_v <- cramersV(tbl2)\n",
        "\n",
        "cat(\"Cramer's V:\", cramer_v)"
      ],
      "metadata": {
        "colab": {
          "base_uri": "https://localhost:8080/"
        },
        "id": "eP4_SqxDJZQn",
        "outputId": "8d787c88-d0f6-4e83-cb84-7db8ab0dbcc3"
      },
      "execution_count": null,
      "outputs": [
        {
          "output_type": "stream",
          "name": "stdout",
          "text": [
            "Cramer's V: 0.1184705"
          ]
        }
      ]
    },
    {
      "cell_type": "code",
      "source": [
        "tbl_prop2 <- prop.table(tbl2, 1)\n",
        "tbl_prop2"
      ],
      "metadata": {
        "colab": {
          "base_uri": "https://localhost:8080/",
          "height": 156
        },
        "id": "66bRRJn91gV5",
        "outputId": "aa4977a0-eac2-4dbd-8762-3177b6b2d570"
      },
      "execution_count": null,
      "outputs": [
        {
          "output_type": "display_data",
          "data": {
            "text/plain": [
              "               \n",
              "                Successful Unsuccessful\n",
              "  Austin         0.4761905    0.5238095\n",
              "  New York       0.3357253    0.6642747\n",
              "  Others         0.4885064    0.5114936\n",
              "  Palo Alto      0.3966942    0.6033058\n",
              "  San Francisco  0.3406940    0.6593060\n",
              "  Seattle        0.4754464    0.5245536"
            ]
          },
          "metadata": {}
        }
      ]
    },
    {
      "cell_type": "code",
      "source": [
        "chisq.test(tbl2)"
      ],
      "metadata": {
        "colab": {
          "base_uri": "https://localhost:8080/",
          "height": 104
        },
        "id": "ZgXrGYDOTn_T",
        "outputId": "4587e70f-e8b3-4d63-e5ba-71ff7867eb32"
      },
      "execution_count": null,
      "outputs": [
        {
          "output_type": "display_data",
          "data": {
            "text/plain": [
              "\n",
              "\tPearson's Chi-squared test\n",
              "\n",
              "data:  tbl2\n",
              "X-squared = 311.33, df = 5, p-value < 2.2e-16\n"
            ]
          },
          "metadata": {}
        }
      ]
    },
    {
      "cell_type": "code",
      "source": [
        "# Create a new data frame with the \"Others\" category\n",
        "df_us_new_merge <- df[c(\"city\", \"success_metric_updated\")]\n",
        "df_us_new_merge$city[!(df_us_new_merge$city %in% c(\"Seattle\", \"Others\"))] <- \"Others\"\n",
        "\n",
        "# Create a new table with the updated data frame\n",
        "tbl_us_merge <- table(df_us_new_merge$city, df_us_new_merge$success_metric_updated)\n",
        "\n",
        "tbl_us_merge"
      ],
      "metadata": {
        "colab": {
          "base_uri": "https://localhost:8080/",
          "height": 86
        },
        "id": "WereqT1Lv1s0",
        "outputId": "05bddf7c-4307-4be5-9ac8-fad0548184d6"
      },
      "execution_count": null,
      "outputs": [
        {
          "output_type": "display_data",
          "data": {
            "text/plain": [
              "         \n",
              "          Potentially Successful Successful Unsuccessful\n",
              "  Others                   16791      13849         1677\n",
              "  Seattle                    210        213           25"
            ]
          },
          "metadata": {}
        }
      ]
    },
    {
      "cell_type": "code",
      "source": [
        "# Subset data for US and Others\n",
        "seattle_data <- df_us_new_merge[df_us_new_merge$city == \"Seattle\", ]\n",
        "other_data <- df_us_new_merge[df_us_new_merge$city != \"Seattle\", ]\n",
        "\n",
        "# Calculate success proportions for each group\n",
        "p_sea <- sum(seattle_data$success_metric_updated == \"Successful\") / nrow(seattle_data)\n",
        "p_other <- sum(other_data$success_metric_updated == \"Successful\") / nrow(other_data)\n",
        "\n",
        "# Calculate pooled proportion (assuming equal variances)\n",
        "pooled_p <- (sum(seattle_data$success_metric_updated == \"Successful\") + sum(other_data$success_metric_updated == \"Successful\")) / (nrow(seattle_data) + nrow(other_data))\n",
        "\n",
        "# Calculate standard error for the difference in proportions\n",
        "se_diff <- sqrt(pooled_p * (1 - pooled_p) * (1/nrow(seattle_data) + 1/nrow(other_data)))\n",
        "\n",
        "# Calculate the z-statistic\n",
        "z_stat <- (p_sea - p_other) / se_diff\n",
        "\n",
        "# Interpretation\n",
        "# A p-value less than the chosen significance level 0.05 indicates\n",
        "# a statistically significant difference between the success proportions\n",
        "# in US and Others category.\n"
      ],
      "metadata": {
        "id": "mYSsdsNpwaCZ"
      },
      "execution_count": null,
      "outputs": []
    },
    {
      "cell_type": "code",
      "source": [
        "\n",
        "# Confidence level (e.g., 95%)\n",
        "confidence_level <- 0.95\n",
        "\n",
        "# Critical value (one-tailed) from standard normal distribution table for confidence level\n",
        "z_crit <- qnorm(1 - (1 - confidence_level) / 2, mean = 0, sd = 1)\n",
        "\n",
        "# Confidence interval for the difference in proportions\n",
        "lower_bound <- (p_sea - p_other) - z_crit * se_diff\n",
        "upper_bound <- (p_sea - p_other) + z_crit * se_diff\n",
        "\n",
        "# Interpretation\n",
        "# Report the z-statistic, p-value, and confidence interval.\n",
        "# The confidence interval captures the range of plausible values for the true\n",
        "# difference in success proportions between US and Others with a confidence level\n",
        "# of (e.g.,) 95%.\n",
        "\n",
        "cat(\"z-statistic:\", z_stat, \"\\n\")\n",
        "cat(\"p-value (two-tailed):\", 2 * pnorm(-abs(z_stat), mean = 0, sd = 1, lower.tail = TRUE), \"\\n\")\n",
        "cat(\"Confidence Interval (\", confidence_level * 100, \"%):\", lower_bound, \" - \", upper_bound, \"\\n\")\n"
      ],
      "metadata": {
        "colab": {
          "base_uri": "https://localhost:8080/"
        },
        "outputId": "8770bc82-d039-4270-89a0-e430e2894898",
        "id": "PPiYe1KhwaCZ"
      },
      "execution_count": null,
      "outputs": [
        {
          "output_type": "stream",
          "name": "stdout",
          "text": [
            "z-statistic: 1.992275 \n",
            "p-value (two-tailed): 0.04634092 \n",
            "Confidence Interval ( 95 %): 0.0007607936  -  0.09305993 \n"
          ]
        }
      ]
    },
    {
      "cell_type": "markdown",
      "source": [
        "# Additional analysis: Logistic Regression"
      ],
      "metadata": {
        "id": "uVTEohaGt0xx"
      }
    },
    {
      "cell_type": "markdown",
      "source": [
        "## Country level analysis"
      ],
      "metadata": {
        "id": "kqvBXMy7vfJP"
      }
    },
    {
      "cell_type": "code",
      "source": [
        "df_new$success_metric_updated <- as.numeric(df_new$success_metric_updated == \"Successful\")"
      ],
      "metadata": {
        "id": "ZCT9VTdvehm7"
      },
      "execution_count": null,
      "outputs": []
    },
    {
      "cell_type": "code",
      "source": [
        "df_new <- within(df_new,relevel(factor(country),ref = \"Others\"))\n",
        "head(df_new)"
      ],
      "metadata": {
        "colab": {
          "base_uri": "https://localhost:8080/",
          "height": 286
        },
        "id": "WTMRn2IOlvBC",
        "outputId": "5d7c1add-4e68-491a-d2c4-de07b6be9a5a"
      },
      "execution_count": null,
      "outputs": [
        {
          "output_type": "display_data",
          "data": {
            "text/html": [
              "<table class=\"dataframe\">\n",
              "<caption>A data.frame: 6 × 2</caption>\n",
              "<thead>\n",
              "\t<tr><th></th><th scope=col>country</th><th scope=col>success_metric_updated</th></tr>\n",
              "\t<tr><th></th><th scope=col>&lt;chr&gt;</th><th scope=col>&lt;dbl&gt;</th></tr>\n",
              "</thead>\n",
              "<tbody>\n",
              "\t<tr><th scope=row>1</th><td>United States </td><td>1</td></tr>\n",
              "\t<tr><th scope=row>2</th><td>Others        </td><td>0</td></tr>\n",
              "\t<tr><th scope=row>3</th><td>United Kingdom</td><td>0</td></tr>\n",
              "\t<tr><th scope=row>4</th><td>United States </td><td>0</td></tr>\n",
              "\t<tr><th scope=row>5</th><td>United States </td><td>0</td></tr>\n",
              "\t<tr><th scope=row>6</th><td>Others        </td><td>0</td></tr>\n",
              "</tbody>\n",
              "</table>\n"
            ],
            "text/markdown": "\nA data.frame: 6 × 2\n\n| <!--/--> | country &lt;chr&gt; | success_metric_updated &lt;dbl&gt; |\n|---|---|---|\n| 1 | United States  | 1 |\n| 2 | Others         | 0 |\n| 3 | United Kingdom | 0 |\n| 4 | United States  | 0 |\n| 5 | United States  | 0 |\n| 6 | Others         | 0 |\n\n",
            "text/latex": "A data.frame: 6 × 2\n\\begin{tabular}{r|ll}\n  & country & success\\_metric\\_updated\\\\\n  & <chr> & <dbl>\\\\\n\\hline\n\t1 & United States  & 1\\\\\n\t2 & Others         & 0\\\\\n\t3 & United Kingdom & 0\\\\\n\t4 & United States  & 0\\\\\n\t5 & United States  & 0\\\\\n\t6 & Others         & 0\\\\\n\\end{tabular}\n",
            "text/plain": [
              "  country        success_metric_updated\n",
              "1 United States  1                     \n",
              "2 Others         0                     \n",
              "3 United Kingdom 0                     \n",
              "4 United States  0                     \n",
              "5 United States  0                     \n",
              "6 Others         0                     "
            ]
          },
          "metadata": {}
        }
      ]
    },
    {
      "cell_type": "code",
      "source": [
        "model <- glm(success_metric_updated ~ country , data = df_new, family = \"binomial\")\n",
        "summary(model)"
      ],
      "metadata": {
        "colab": {
          "base_uri": "https://localhost:8080/",
          "height": 416
        },
        "id": "AeWhsvZXdoMv",
        "outputId": "06441a7d-c8a2-45eb-f9c3-4404f7d9e1f7"
      },
      "execution_count": null,
      "outputs": [
        {
          "output_type": "display_data",
          "data": {
            "text/plain": [
              "\n",
              "Call:\n",
              "glm(formula = success_metric_updated ~ country, family = \"binomial\", \n",
              "    data = df_new)\n",
              "\n",
              "Coefficients:\n",
              "                      Estimate Std. Error z value Pr(>|z|)    \n",
              "(Intercept)           -0.29783    0.06286  -4.738 2.16e-06 ***\n",
              "countryGermany        -0.16658    0.10002  -1.665 0.095841 .  \n",
              "countryIndia          -0.35827    0.10419  -3.439 0.000584 ***\n",
              "countryOthers         -0.30605    0.06807  -4.496 6.92e-06 ***\n",
              "countryUnited Kingdom -0.12250    0.07923  -1.546 0.122091    \n",
              "countryUnited States   0.12846    0.06429   1.998 0.045681 *  \n",
              "---\n",
              "Signif. codes:  0 ‘***’ 0.001 ‘**’ 0.01 ‘*’ 0.05 ‘.’ 0.1 ‘ ’ 1\n",
              "\n",
              "(Dispersion parameter for binomial family taken to be 1)\n",
              "\n",
              "    Null deviance: 44762  on 32764  degrees of freedom\n",
              "Residual deviance: 44502  on 32759  degrees of freedom\n",
              "AIC: 44514\n",
              "\n",
              "Number of Fisher Scoring iterations: 4\n"
            ]
          },
          "metadata": {}
        }
      ]
    },
    {
      "cell_type": "code",
      "source": [
        "install.packages(\"effects\")\n",
        "library(\"effects\")\n",
        "plot(Effect('country', model), confint=T)\n"
      ],
      "metadata": {
        "colab": {
          "base_uri": "https://localhost:8080/",
          "height": 628
        },
        "id": "wkUz8pjUD3ac",
        "outputId": "d9b21ebe-99d4-499c-d9b7-59e288fd7c39"
      },
      "execution_count": null,
      "outputs": [
        {
          "output_type": "stream",
          "name": "stderr",
          "text": [
            "Installing package into ‘/usr/local/lib/R/site-library’\n",
            "(as ‘lib’ is unspecified)\n",
            "\n",
            "also installing the dependencies ‘minqa’, ‘Rcpp’, ‘RcppEigen’, ‘RcppArmadillo’, ‘lme4’, ‘survey’\n",
            "\n",
            "\n",
            "Loading required package: carData\n",
            "\n",
            "lattice theme set by effectsTheme()\n",
            "See ?effectsTheme for details.\n",
            "\n"
          ]
        },
        {
          "output_type": "display_data",
          "data": {
            "text/plain": [
              "plot without title"
            ],
            "image/png": "[encoded data removed]"
          },
          "metadata": {
            "image/png": {
              "width": 420,
              "height": 420
            }
          }
        }
      ]
    },
    {
      "cell_type": "code",
      "source": [
        "# Get the estimated coefficients\n",
        "coefs <- coef(model, simplify=TRUE)\n",
        "\n",
        "# Calculate odds ratios for each country compared to the reference category\n",
        "odds_ratios <- as.data.frame(exp(coefs))\n",
        "odds_ratios"
      ],
      "metadata": {
        "colab": {
          "base_uri": "https://localhost:8080/",
          "height": 286
        },
        "id": "GnSCeelSl8iW",
        "outputId": "614c5e66-285a-48b7-f9c8-2e913729eeba"
      },
      "execution_count": null,
      "outputs": [
        {
          "output_type": "display_data",
          "data": {
            "text/html": [
              "<table class=\"dataframe\">\n",
              "<caption>A data.frame: 6 × 1</caption>\n",
              "<thead>\n",
              "\t<tr><th></th><th scope=col>exp(coefs)</th></tr>\n",
              "\t<tr><th></th><th scope=col>&lt;dbl&gt;</th></tr>\n",
              "</thead>\n",
              "<tbody>\n",
              "\t<tr><th scope=row>(Intercept)</th><td>0.7424242</td></tr>\n",
              "\t<tr><th scope=row>countryGermany</th><td>0.8465573</td></tr>\n",
              "\t<tr><th scope=row>countryIndia</th><td>0.6988833</td></tr>\n",
              "\t<tr><th scope=row>countryOthers</th><td>0.7363482</td></tr>\n",
              "\t<tr><th scope=row>countryUnited Kingdom</th><td>0.8847052</td></tr>\n",
              "\t<tr><th scope=row>countryUnited States</th><td>1.1370815</td></tr>\n",
              "</tbody>\n",
              "</table>\n"
            ],
            "text/markdown": "\nA data.frame: 6 × 1\n\n| <!--/--> | exp(coefs) &lt;dbl&gt; |\n|---|---|\n| (Intercept) | 0.7424242 |\n| countryGermany | 0.8465573 |\n| countryIndia | 0.6988833 |\n| countryOthers | 0.7363482 |\n| countryUnited Kingdom | 0.8847052 |\n| countryUnited States | 1.1370815 |\n\n",
            "text/latex": "A data.frame: 6 × 1\n\\begin{tabular}{r|l}\n  & exp(coefs)\\\\\n  & <dbl>\\\\\n\\hline\n\t(Intercept) & 0.7424242\\\\\n\tcountryGermany & 0.8465573\\\\\n\tcountryIndia & 0.6988833\\\\\n\tcountryOthers & 0.7363482\\\\\n\tcountryUnited Kingdom & 0.8847052\\\\\n\tcountryUnited States & 1.1370815\\\\\n\\end{tabular}\n",
            "text/plain": [
              "                      exp(coefs)\n",
              "(Intercept)           0.7424242 \n",
              "countryGermany        0.8465573 \n",
              "countryIndia          0.6988833 \n",
              "countryOthers         0.7363482 \n",
              "countryUnited Kingdom 0.8847052 \n",
              "countryUnited States  1.1370815 "
            ]
          },
          "metadata": {}
        }
      ]
    },
    {
      "cell_type": "markdown",
      "source": [
        "## City level analysis"
      ],
      "metadata": {
        "id": "NA5WXbBevn79"
      }
    },
    {
      "cell_type": "code",
      "source": [
        "df_us_new <- within(df_us_new,relevel(factor(city),ref = \"Others\"))"
      ],
      "metadata": {
        "id": "HaCS_l1Km8vZ"
      },
      "execution_count": null,
      "outputs": []
    },
    {
      "cell_type": "code",
      "source": [
        "library(nnet)\n",
        "df_us_new$city <- as.factor(df_us_new$city)\n",
        "df_relevel_us <- df_us_new %>%\n",
        "  mutate(city = relevel(city, ref = \"Seattle\"))\n",
        "model2 <- multinom(success_metric_updated ~ city, data = df_relevel_us)\n",
        "summary(model2)"
      ],
      "metadata": {
        "colab": {
          "base_uri": "https://localhost:8080/",
          "height": 485
        },
        "id": "f1IjBw73TuLA",
        "outputId": "f8769d00-370d-4170-9b8e-d2fe453d35d8"
      },
      "execution_count": null,
      "outputs": [
        {
          "output_type": "stream",
          "name": "stdout",
          "text": [
            "# weights:  21 (12 variable)\n",
            "initial  value 24369.417787 \n",
            "iter  10 value 19713.217618\n",
            "iter  20 value 18922.967683\n",
            "final  value 18922.965134 \n",
            "converged\n"
          ]
        },
        {
          "output_type": "display_data",
          "data": {
            "text/plain": [
              "Call:\n",
              "multinom(formula = success_metric_updated ~ city, data = df_relevel_us)\n",
              "\n",
              "Coefficients:\n",
              "             (Intercept) cityAustin cityNew York  cityOthers cityPalo Alto\n",
              "Successful    0.01419343 0.00413913   -0.6112531  0.04192902    -0.2860865\n",
              "Unsuccessful -2.12808318 0.01118418   -0.2900717 -0.10224037     0.2877459\n",
              "             citySan Francisco\n",
              "Successful          -0.5835821\n",
              "Unsuccessful        -0.2251744\n",
              "\n",
              "Std. Errors:\n",
              "             (Intercept) cityAustin cityNew York cityOthers cityPalo Alto\n",
              "Successful    0.09724617  0.1364993    0.1087376 0.09854082     0.1365046\n",
              "Unsuccessful  0.21155737  0.2963733    0.2345844 0.21470660     0.2715151\n",
              "             citySan Francisco\n",
              "Successful           0.1073688\n",
              "Unsuccessful         0.2310392\n",
              "\n",
              "Residual Deviance: 37845.93 \n",
              "AIC: 37869.93 "
            ]
          },
          "metadata": {}
        }
      ]
    },
    {
      "cell_type": "code",
      "source": [
        "df_us_new$success_metric_updated <- as.numeric(df_us_new$success_metric_updated == \"Successful\")"
      ],
      "metadata": {
        "id": "bk5VaobTgoGf"
      },
      "execution_count": null,
      "outputs": []
    },
    {
      "cell_type": "code",
      "source": [
        "model2 <- glm(success_metric_updated ~ city, data = df_us_new, family = \"binomial\")\n",
        "summary(model2)"
      ],
      "metadata": {
        "colab": {
          "base_uri": "https://localhost:8080/",
          "height": 416
        },
        "id": "YKZOmIg_f_ZC",
        "outputId": "0e73b586-5ccd-441a-ea9e-ca1479cb88ad"
      },
      "execution_count": null,
      "outputs": [
        {
          "output_type": "display_data",
          "data": {
            "text/plain": [
              "\n",
              "Call:\n",
              "glm(formula = success_metric_updated ~ city, family = \"binomial\", \n",
              "    data = df_us_new)\n",
              "\n",
              "Coefficients:\n",
              "                   Estimate Std. Error z value Pr(>|z|)    \n",
              "(Intercept)       -0.095310   0.093154  -1.023   0.3062    \n",
              "cityNew York      -0.587092   0.104766  -5.604 2.10e-08 ***\n",
              "cityOthers         0.049328   0.094438   0.522   0.6014    \n",
              "cityPalo Alto     -0.323948   0.131570  -2.462   0.0138 *  \n",
              "citySan Francisco -0.564893   0.103363  -5.465 4.63e-08 ***\n",
              "citySeattle       -0.002983   0.132770  -0.022   0.9821    \n",
              "---\n",
              "Signif. codes:  0 ‘***’ 0.001 ‘**’ 0.01 ‘*’ 0.05 ‘.’ 0.1 ‘ ’ 1\n",
              "\n",
              "(Dispersion parameter for binomial family taken to be 1)\n",
              "\n",
              "    Null deviance: 30592  on 22181  degrees of freedom\n",
              "Residual deviance: 30275  on 22176  degrees of freedom\n",
              "AIC: 30287\n",
              "\n",
              "Number of Fisher Scoring iterations: 4\n"
            ]
          },
          "metadata": {}
        }
      ]
    },
    {
      "cell_type": "code",
      "source": [
        "# Get the estimated coefficients\n",
        "coefs <- coef(model2, simplify=TRUE)\n",
        "\n",
        "# Calculate odds ratios for each country compared to the reference category\n",
        "odds_ratios <- as.data.frame(exp(coefs))\n",
        "odds_ratios"
      ],
      "metadata": {
        "id": "bUNtcpHMmFUa",
        "outputId": "e952b017-5e89-4618-e04c-9da7a27d7b4e",
        "colab": {
          "base_uri": "https://localhost:8080/",
          "height": 286
        }
      },
      "execution_count": null,
      "outputs": [
        {
          "output_type": "display_data",
          "data": {
            "text/html": [
              "<table class=\"dataframe\">\n",
              "<caption>A data.frame: 6 × 1</caption>\n",
              "<thead>\n",
              "\t<tr><th></th><th scope=col>exp(coefs)</th></tr>\n",
              "\t<tr><th></th><th scope=col>&lt;dbl&gt;</th></tr>\n",
              "</thead>\n",
              "<tbody>\n",
              "\t<tr><th scope=row>(Intercept)</th><td>0.9090909</td></tr>\n",
              "\t<tr><th scope=row>cityNew York</th><td>0.5559414</td></tr>\n",
              "\t<tr><th scope=row>cityOthers</th><td>1.0505647</td></tr>\n",
              "\t<tr><th scope=row>cityPalo Alto</th><td>0.7232877</td></tr>\n",
              "\t<tr><th scope=row>citySan Francisco</th><td>0.5684211</td></tr>\n",
              "\t<tr><th scope=row>citySeattle</th><td>0.9970213</td></tr>\n",
              "</tbody>\n",
              "</table>\n"
            ],
            "text/markdown": "\nA data.frame: 6 × 1\n\n| <!--/--> | exp(coefs) &lt;dbl&gt; |\n|---|---|\n| (Intercept) | 0.9090909 |\n| cityNew York | 0.5559414 |\n| cityOthers | 1.0505647 |\n| cityPalo Alto | 0.7232877 |\n| citySan Francisco | 0.5684211 |\n| citySeattle | 0.9970213 |\n\n",
            "text/latex": "A data.frame: 6 × 1\n\\begin{tabular}{r|l}\n  & exp(coefs)\\\\\n  & <dbl>\\\\\n\\hline\n\t(Intercept) & 0.9090909\\\\\n\tcityNew York & 0.5559414\\\\\n\tcityOthers & 1.0505647\\\\\n\tcityPalo Alto & 0.7232877\\\\\n\tcitySan Francisco & 0.5684211\\\\\n\tcitySeattle & 0.9970213\\\\\n\\end{tabular}\n",
            "text/plain": [
              "                  exp(coefs)\n",
              "(Intercept)       0.9090909 \n",
              "cityNew York      0.5559414 \n",
              "cityOthers        1.0505647 \n",
              "cityPalo Alto     0.7232877 \n",
              "citySan Francisco 0.5684211 \n",
              "citySeattle       0.9970213 "
            ]
          },
          "metadata": {}
        }
      ]
    },
    {
      "cell_type": "code",
      "source": [
        "library(\"effects\")\n",
        "plot(Effect('city', model2), confint=T)"
      ],
      "metadata": {
        "colab": {
          "base_uri": "https://localhost:8080/",
          "height": 437
        },
        "id": "i9_2OCBCQA3O",
        "outputId": "0ef35c54-b660-4f72-c83a-da545e706ab0"
      },
      "execution_count": null,
      "outputs": [
        {
          "output_type": "display_data",
          "data": {
            "text/plain": [
              "plot without title"
            ],
            "image/png": "[encoded data removed]"
          },
          "metadata": {
            "image/png": {
              "width": 420,
              "height": 420
            }
          }
        }
      ]
    }
  ]
}